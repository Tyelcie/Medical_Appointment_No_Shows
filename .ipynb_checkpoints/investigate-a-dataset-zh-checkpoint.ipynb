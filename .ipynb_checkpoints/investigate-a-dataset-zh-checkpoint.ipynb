{
 "cells": [
  {
   "cell_type": "markdown",
   "metadata": {},
   "source": [
    "> **提示**：欢迎参加“调查数据集”项目！引用段会添加这类提示，来帮助你制定调查方法。在你提交项目之前，你可以浏览一下报告，将这一段删除，以保持报告的简洁性。首先，你需要双击该 Markdown 框(cell)，将标题更改为与数据集和调查相关的标题。\n",
    "\n",
    "# 项目：未前往就诊的挂号预约\n",
    "\n",
    "## 目录\n",
    "<ul>\n",
    "<li><a href=\"#intro\">简介</a></li>\n",
    "<li><a href=\"#wrangling\">数据整理</a></li>\n",
    "<li><a href=\"#eda\">探索性数据分析</a></li>\n",
    "<li><a href=\"#conclusions\">结论</a></li>\n",
    "</ul>\n",
    "\n",
    "<a id='intro'></a>\n",
    "## 简介\n",
    "\n",
    "> **提示**：在报告的这一部分，你需要首先对已选择进行分析的数据集进行简要的介绍。在这一部分末尾，对你计划在报告过程中探索的问题进行描述。你需要建立至少包含一个因变量和三个自变量的分析报告。如果你不确定要问什么问题，请务必先熟悉数据集、数据集变量以及数据集上下文，以便确定要探索的问题。\n",
    "\n",
    "> 如果尚未选择和下载数据，务必先进行这一步，再回到这里。如需在这个工作区中处理数据，还需要将其上传到工作区。因此，请单击左上角的 jupyter 图标，回到工作区目录。右上角有一个‘上传’按钮，可以将你的数据文件添加到工作区。然后单击 .ipynb 文件名，回到这里。\n",
    "\n",
    "本数据集来自Kaggle项目《[Medical Appointment No Shows](https://www.kaggle.com/joniarroba/noshowappointments)》。其中包含超过10万条预约记录，有的预约到时间会按时就诊，有的预约未能按时就诊，则浪费了医疗资源。我们要找出哪些原因与患者不来就诊相关，以便有针对性地改进。\n",
    "\n",
    "数据描述：\n",
    "\n",
    "以下数据描述参考该竞赛主页的介绍。\n",
    "\n",
    "* PatientId - 患者身份标识。\n",
    "* AppointmentID - 预约号。\n",
    "* Gender - 两种取值：M/F。女性占更多数，相比于男性他们更在意自己的健康状况。\n",
    "* ScheduleDay - 原竞赛题也没有详细解释。可能是发起预约的时间。\n",
    "* AppointmentDay - 原竞赛题也没有详细解释。可能是预约就诊的时间。\n",
    "* Age - 年龄。\n",
    "* Neighbourhood - 预约地点。\n",
    "* Scholarship - 两种取值：Ture/False，已编码为1/0。原竞赛题也没有明确解释意义，但与[Balsa Familia](https://en.wikipedia.org/wiki/Bolsa_Fam%C3%ADlia)慈善组织有关，该组织旨在资助巴西贫困家庭儿童的教育和疫苗。故推测此`Scholar`字段可能为，是否接受Balsa Familia的教育资助，或是否受教育。\n",
    "* Hipertension - 两种取值：Ture/False，已编码为1/0。患者是否有高血压。\n",
    "* Diabetes - 两种取值：Ture/False，已编码为1/0。患者是否有糖尿病。\n",
    "* Alcoholism - 两种取值：Ture/False，已编码为1/0。患者是否饮酒。\n",
    "* Handcap - 两种取值：Ture/False，已编码为1/0。患者是否为残障人士。 \n",
    "* SMS_received - 两种取值：1/0。是否向患者发送1条或以上的短信。\n",
    "* No-show - 两种取值：Ture/False，已编码为Yes/No。\n",
    "\n",
    "本项目将对该数据集做初步的探索，要了解到底有多少患者未能就诊？是否按时来就诊与哪些因素相关？"
   ]
  },
  {
   "cell_type": "code",
   "execution_count": 1,
   "metadata": {},
   "outputs": [],
   "source": [
    "# 用这个框对你计划使用的所有数据包进行设置\n",
    "#   导入语句。\n",
    "\n",
    "# 务必包含一个‘magic word’（带有“%”的***），以便将你的视图\n",
    "#   与 notebook 保持一致。关于更多信息，请访问该网页：\n",
    "#   http://ipython.readthedocs.io/en/stable/interactive/magics.html\n",
    "import pandas as pd\n",
    "import numpy as np\n",
    "import matplotlib.pyplot as plt\n",
    "import pylab as pl\n",
    "%matplotlib inline"
   ]
  },
  {
   "cell_type": "markdown",
   "metadata": {},
   "source": [
    "<a id='wrangling'></a>\n",
    "## 数据整理\n",
    "\n",
    "> **提示**：在报告的这一部分中载入数据，检查简洁度，然后整理和清理数据集，以便进行分析。请务必将步骤仔细归档，并确定清理决策是否正确。\n",
    "\n",
    "### 常规属性"
   ]
  },
  {
   "cell_type": "code",
   "execution_count": 2,
   "metadata": {},
   "outputs": [
    {
     "name": "stdout",
     "output_type": "stream",
     "text": [
      "数据集共有110527个样本，14个变量。\n"
     ]
    },
    {
     "data": {
      "text/plain": [
       "PatientId         float64\n",
       "AppointmentID       int64\n",
       "Gender             object\n",
       "ScheduledDay       object\n",
       "AppointmentDay     object\n",
       "Age                 int64\n",
       "Neighbourhood      object\n",
       "Scholarship         int64\n",
       "Hipertension        int64\n",
       "Diabetes            int64\n",
       "Alcoholism          int64\n",
       "Handcap             int64\n",
       "SMS_received        int64\n",
       "No-show            object\n",
       "dtype: object"
      ]
     },
     "execution_count": 2,
     "metadata": {},
     "output_type": "execute_result"
    }
   ],
   "source": [
    "# 加载数据并打印几行。进行这几项操作，来检查数据\n",
    "#   类型，以及是否有缺失数据或错误数据的情况。\n",
    "df = pd.read_csv('noshowappointments-kagglev2-may-2016.csv')\n",
    "print('数据集共有{}个样本，{}个变量。'.format(df.shape[0], df.shape[1]))\n",
    "df.dtypes"
   ]
  },
  {
   "cell_type": "markdown",
   "metadata": {},
   "source": [
    "先检查数据集有样本和变量数，再查看各列的数据类型。可见大多数都是数值型变量，而`Gender`、`ScheduleDay`、`AppointmentDay`、`Neighbourhood`、`No-show`是字符串类型，根据后续分析情况可能需要做一些转换。"
   ]
  },
  {
   "cell_type": "code",
   "execution_count": 3,
   "metadata": {},
   "outputs": [
    {
     "data": {
      "text/html": [
       "<div>\n",
       "<style scoped>\n",
       "    .dataframe tbody tr th:only-of-type {\n",
       "        vertical-align: middle;\n",
       "    }\n",
       "\n",
       "    .dataframe tbody tr th {\n",
       "        vertical-align: top;\n",
       "    }\n",
       "\n",
       "    .dataframe thead th {\n",
       "        text-align: right;\n",
       "    }\n",
       "</style>\n",
       "<table border=\"1\" class=\"dataframe\">\n",
       "  <thead>\n",
       "    <tr style=\"text-align: right;\">\n",
       "      <th></th>\n",
       "      <th>PatientId</th>\n",
       "      <th>AppointmentID</th>\n",
       "      <th>Gender</th>\n",
       "      <th>ScheduledDay</th>\n",
       "      <th>AppointmentDay</th>\n",
       "      <th>Age</th>\n",
       "      <th>Neighbourhood</th>\n",
       "      <th>Scholarship</th>\n",
       "      <th>Hipertension</th>\n",
       "      <th>Diabetes</th>\n",
       "      <th>Alcoholism</th>\n",
       "      <th>Handcap</th>\n",
       "      <th>SMS_received</th>\n",
       "      <th>No-show</th>\n",
       "    </tr>\n",
       "  </thead>\n",
       "  <tbody>\n",
       "    <tr>\n",
       "      <th>0</th>\n",
       "      <td>2.987250e+13</td>\n",
       "      <td>5642903</td>\n",
       "      <td>F</td>\n",
       "      <td>2016-04-29T18:38:08Z</td>\n",
       "      <td>2016-04-29T00:00:00Z</td>\n",
       "      <td>62</td>\n",
       "      <td>JARDIM DA PENHA</td>\n",
       "      <td>0</td>\n",
       "      <td>1</td>\n",
       "      <td>0</td>\n",
       "      <td>0</td>\n",
       "      <td>0</td>\n",
       "      <td>0</td>\n",
       "      <td>No</td>\n",
       "    </tr>\n",
       "    <tr>\n",
       "      <th>1</th>\n",
       "      <td>5.589978e+14</td>\n",
       "      <td>5642503</td>\n",
       "      <td>M</td>\n",
       "      <td>2016-04-29T16:08:27Z</td>\n",
       "      <td>2016-04-29T00:00:00Z</td>\n",
       "      <td>56</td>\n",
       "      <td>JARDIM DA PENHA</td>\n",
       "      <td>0</td>\n",
       "      <td>0</td>\n",
       "      <td>0</td>\n",
       "      <td>0</td>\n",
       "      <td>0</td>\n",
       "      <td>0</td>\n",
       "      <td>No</td>\n",
       "    </tr>\n",
       "    <tr>\n",
       "      <th>2</th>\n",
       "      <td>4.262962e+12</td>\n",
       "      <td>5642549</td>\n",
       "      <td>F</td>\n",
       "      <td>2016-04-29T16:19:04Z</td>\n",
       "      <td>2016-04-29T00:00:00Z</td>\n",
       "      <td>62</td>\n",
       "      <td>MATA DA PRAIA</td>\n",
       "      <td>0</td>\n",
       "      <td>0</td>\n",
       "      <td>0</td>\n",
       "      <td>0</td>\n",
       "      <td>0</td>\n",
       "      <td>0</td>\n",
       "      <td>No</td>\n",
       "    </tr>\n",
       "  </tbody>\n",
       "</table>\n",
       "</div>"
      ],
      "text/plain": [
       "      PatientId  AppointmentID Gender          ScheduledDay  \\\n",
       "0  2.987250e+13        5642903      F  2016-04-29T18:38:08Z   \n",
       "1  5.589978e+14        5642503      M  2016-04-29T16:08:27Z   \n",
       "2  4.262962e+12        5642549      F  2016-04-29T16:19:04Z   \n",
       "\n",
       "         AppointmentDay  Age    Neighbourhood  Scholarship  Hipertension  \\\n",
       "0  2016-04-29T00:00:00Z   62  JARDIM DA PENHA            0             1   \n",
       "1  2016-04-29T00:00:00Z   56  JARDIM DA PENHA            0             0   \n",
       "2  2016-04-29T00:00:00Z   62    MATA DA PRAIA            0             0   \n",
       "\n",
       "   Diabetes  Alcoholism  Handcap  SMS_received No-show  \n",
       "0         0           0        0             0      No  \n",
       "1         0           0        0             0      No  \n",
       "2         0           0        0             0      No  "
      ]
     },
     "execution_count": 3,
     "metadata": {},
     "output_type": "execute_result"
    }
   ],
   "source": [
    "df.head(3)"
   ]
  },
  {
   "cell_type": "markdown",
   "metadata": {},
   "source": [
    "预览前三个样本，以了解各变量的具体形式。可见其中`patientID`和`AppointmentID`是标识符，而`No-show`是我们分析的因变量，其他均有可能成为影响`No-show`的自变量。\n",
    "\n",
    "`No-show`可能要转为1/0以便于量化分析。\n",
    "\n",
    "而其中，`ScheduledDay`和`AppointmentDay`是日期，下一步可以转化为日期格式，并且要确认哪个时间更早。如果`ScheduledDay`是预约发起的时间，则应不晚于`AppointmentDay`。\n",
    "\n",
    "`Gender`和`Neighbourhood`待下一步确认具体内容有几类，如有必要可以转为独热编码。"
   ]
  },
  {
   "cell_type": "code",
   "execution_count": 4,
   "metadata": {},
   "outputs": [
    {
     "data": {
      "text/plain": [
       "PatientId         0\n",
       "AppointmentID     0\n",
       "Gender            0\n",
       "ScheduledDay      0\n",
       "AppointmentDay    0\n",
       "Age               0\n",
       "Neighbourhood     0\n",
       "Scholarship       0\n",
       "Hipertension      0\n",
       "Diabetes          0\n",
       "Alcoholism        0\n",
       "Handcap           0\n",
       "SMS_received      0\n",
       "No-show           0\n",
       "dtype: int64"
      ]
     },
     "execution_count": 4,
     "metadata": {},
     "output_type": "execute_result"
    }
   ],
   "source": [
    "df.isnull().sum()"
   ]
  },
  {
   "cell_type": "markdown",
   "metadata": {},
   "source": [
    "查看各列的缺失值数量，结果很好，本数据集中没有缺失值。"
   ]
  },
  {
   "cell_type": "code",
   "execution_count": 5,
   "metadata": {
    "scrolled": true
   },
   "outputs": [
    {
     "name": "stdout",
     "output_type": "stream",
     "text": [
      "{'MARUÍPE', 'TABUAZEIRO', 'JOANA D´ARC', 'SEGURANÇA DO LAR', 'PRAIA DO SUÁ', 'BONFIM', 'COMDUSA', 'SÃO PEDRO', 'FRADINHOS', 'SANTA CECÍLIA', 'ITARARÉ', 'NAZARETH', 'BARRO VERMELHO', 'JARDIM CAMBURI', 'SANTA TEREZA', 'SANTA LUÍZA', 'SANTO ANTÔNIO', 'MARIA ORTIZ', 'PARQUE MOSCOSO', 'GRANDE VITÓRIA', 'JABOUR', 'SANTA LÚCIA', 'ILHA DE SANTA MARIA', 'DO CABRAL', 'SÃO CRISTÓVÃO', 'SANTOS DUMONT', 'ANDORINHAS', 'JARDIM DA PENHA', 'SANTO ANDRÉ', 'MATA DA PRAIA', 'ARIOVALDO FAVALESSA', 'MONTE BELO', 'DO MOSCOSO', 'DE LOURDES', 'MÁRIO CYPRESTE', 'JUCUTUQUARA', 'PIEDADE', 'BENTO FERREIRA', 'AEROPORTO', 'ENSEADA DO SUÁ', 'PARQUE INDUSTRIAL', 'FORTE SÃO JOÃO', 'CONSOLAÇÃO', 'CENTRO', 'VILA RUBIM', 'SANTA MARTHA', 'JESUS DE NAZARETH', 'SÃO JOSÉ', 'GOIABEIRAS', 'ROMÃO', 'UNIVERSITÁRIO', 'ILHA DO BOI', 'SANTA CLARA', 'ILHAS OCEÂNICAS DE TRINDADE', 'SOLON BORGES', 'BELA VISTA', 'ANTÔNIO HONÓRIO', 'INHANGUETÁ', 'REPÚBLICA', 'SÃO BENEDITO', 'ILHA DO FRADE', 'SANTA HELENA', 'ILHA DO PRÍNCIPE', 'PONTAL DE CAMBURI', 'ESTRELINHA', 'PRAIA DO CANTO', 'NOVA PALESTINA', 'GURIGICA', 'SANTOS REIS', 'RESISTÊNCIA', 'DA PENHA', 'HORTO', 'MORADA DE CAMBURI', 'BOA VISTA', 'CARATOÍRA', 'CRUZAMENTO', 'FONTE GRANDE', 'CONQUISTA', 'DO QUADRO', 'ILHA DAS CAIEIRAS', 'REDENÇÃO'}\n",
      "81\n"
     ]
    }
   ],
   "source": [
    "print(set(df['Neighbourhood']))\n",
    "print(len(set(df['Neighbourhood'])))"
   ]
  },
  {
   "cell_type": "markdown",
   "metadata": {},
   "source": [
    "查看`Neighbourhood`共有几种取值。由于`Neibourhood`的项目较多，可用`len()`查看项目数量，共81项。如果编成独热编码的话，变量数会大增。所以若无回归分析，可以暂时保持原状。"
   ]
  },
  {
   "cell_type": "code",
   "execution_count": 6,
   "metadata": {},
   "outputs": [
    {
     "name": "stdout",
     "output_type": "stream",
     "text": [
      "48228\n",
      "0\n"
     ]
    }
   ],
   "source": [
    "print(df[df.duplicated('PatientId')].shape[0])\n",
    "print(df[df.duplicated('AppointmentID')].shape[0])"
   ]
  },
  {
   "cell_type": "markdown",
   "metadata": {},
   "source": [
    "检查`PatientId`和`AppointmentID`是否有重复。结果患者有4万余条重复，说明这4万余名患者多次预约；而预约号没有重复，是合理的。"
   ]
  },
  {
   "cell_type": "markdown",
   "metadata": {},
   "source": [
    "> **提示**：_不应_在每个 notebook 框 (cell) 中进行太多操作。可以自由创建框，来进行数据探索。在这个项目中，可以在初始 notebook 中进行大量探索性操作。不要求对其进行组织，但请务必仔细阅读备注，理解每个代码框的用途。完成分析之后，你可以创建 notebook 副本，在其中去除多余数据，组织好你的每一步分析，从而形成信息连贯、结构紧密的报告。\n",
    "\n",
    "> **提示**：请务必向你的读者告知你在调查中采取的步骤。在每个代码框或每组相关代码框后面，用 markdown 框对前面的框中的调查结果向读者进行说明。你需要尽量做到这一点，以便读者更好地理解后续框中的内容。\n",
    "\n",
    "### 格式转换"
   ]
  },
  {
   "cell_type": "code",
   "execution_count": 7,
   "metadata": {},
   "outputs": [],
   "source": [
    "# 在讨论数据结构和需要解决的任何问题之后，\n",
    "#   在本部分的第二小部分进行这些清理步骤。\n",
    "df['No-show-n'] = [1 if x == 'Yes' else 0 for x in df['No-show']]"
   ]
  },
  {
   "cell_type": "markdown",
   "metadata": {},
   "source": [
    "将`No-show`一列转化为1/0，以便量化分析。"
   ]
  },
  {
   "cell_type": "code",
   "execution_count": 8,
   "metadata": {},
   "outputs": [],
   "source": [
    "df['ScheduledDay'] = pd.to_datetime(df['ScheduledDay'])\n",
    "df['AppointmentDay'] = pd.to_datetime(df['AppointmentDay'])"
   ]
  },
  {
   "cell_type": "markdown",
   "metadata": {},
   "source": [
    "将`ScheduledDay`和`AppointmentDay`转化为日期格式。"
   ]
  },
  {
   "cell_type": "markdown",
   "metadata": {},
   "source": [
    "### 检测异常值"
   ]
  },
  {
   "cell_type": "code",
   "execution_count": 9,
   "metadata": {},
   "outputs": [
    {
     "name": "stdout",
     "output_type": "stream",
     "text": [
      "71959\n",
      "0.34894641128412063\n"
     ]
    },
    {
     "data": {
      "text/html": [
       "<div>\n",
       "<style scoped>\n",
       "    .dataframe tbody tr th:only-of-type {\n",
       "        vertical-align: middle;\n",
       "    }\n",
       "\n",
       "    .dataframe tbody tr th {\n",
       "        vertical-align: top;\n",
       "    }\n",
       "\n",
       "    .dataframe thead th {\n",
       "        text-align: right;\n",
       "    }\n",
       "</style>\n",
       "<table border=\"1\" class=\"dataframe\">\n",
       "  <thead>\n",
       "    <tr style=\"text-align: right;\">\n",
       "      <th></th>\n",
       "      <th>PatientId</th>\n",
       "      <th>AppointmentID</th>\n",
       "      <th>Gender</th>\n",
       "      <th>ScheduledDay</th>\n",
       "      <th>AppointmentDay</th>\n",
       "      <th>Age</th>\n",
       "      <th>Neighbourhood</th>\n",
       "      <th>Scholarship</th>\n",
       "      <th>Hipertension</th>\n",
       "      <th>Diabetes</th>\n",
       "      <th>Alcoholism</th>\n",
       "      <th>Handcap</th>\n",
       "      <th>SMS_received</th>\n",
       "      <th>No-show</th>\n",
       "      <th>No-show-n</th>\n",
       "    </tr>\n",
       "  </thead>\n",
       "  <tbody>\n",
       "    <tr>\n",
       "      <th>0</th>\n",
       "      <td>2.987250e+13</td>\n",
       "      <td>5642903</td>\n",
       "      <td>F</td>\n",
       "      <td>2016-04-29 18:38:08+00:00</td>\n",
       "      <td>2016-04-29 00:00:00+00:00</td>\n",
       "      <td>62</td>\n",
       "      <td>JARDIM DA PENHA</td>\n",
       "      <td>0</td>\n",
       "      <td>1</td>\n",
       "      <td>0</td>\n",
       "      <td>0</td>\n",
       "      <td>0</td>\n",
       "      <td>0</td>\n",
       "      <td>No</td>\n",
       "      <td>0</td>\n",
       "    </tr>\n",
       "    <tr>\n",
       "      <th>1</th>\n",
       "      <td>5.589978e+14</td>\n",
       "      <td>5642503</td>\n",
       "      <td>M</td>\n",
       "      <td>2016-04-29 16:08:27+00:00</td>\n",
       "      <td>2016-04-29 00:00:00+00:00</td>\n",
       "      <td>56</td>\n",
       "      <td>JARDIM DA PENHA</td>\n",
       "      <td>0</td>\n",
       "      <td>0</td>\n",
       "      <td>0</td>\n",
       "      <td>0</td>\n",
       "      <td>0</td>\n",
       "      <td>0</td>\n",
       "      <td>No</td>\n",
       "      <td>0</td>\n",
       "    </tr>\n",
       "    <tr>\n",
       "      <th>2</th>\n",
       "      <td>4.262962e+12</td>\n",
       "      <td>5642549</td>\n",
       "      <td>F</td>\n",
       "      <td>2016-04-29 16:19:04+00:00</td>\n",
       "      <td>2016-04-29 00:00:00+00:00</td>\n",
       "      <td>62</td>\n",
       "      <td>MATA DA PRAIA</td>\n",
       "      <td>0</td>\n",
       "      <td>0</td>\n",
       "      <td>0</td>\n",
       "      <td>0</td>\n",
       "      <td>0</td>\n",
       "      <td>0</td>\n",
       "      <td>No</td>\n",
       "      <td>0</td>\n",
       "    </tr>\n",
       "    <tr>\n",
       "      <th>3</th>\n",
       "      <td>8.679512e+11</td>\n",
       "      <td>5642828</td>\n",
       "      <td>F</td>\n",
       "      <td>2016-04-29 17:29:31+00:00</td>\n",
       "      <td>2016-04-29 00:00:00+00:00</td>\n",
       "      <td>8</td>\n",
       "      <td>PONTAL DE CAMBURI</td>\n",
       "      <td>0</td>\n",
       "      <td>0</td>\n",
       "      <td>0</td>\n",
       "      <td>0</td>\n",
       "      <td>0</td>\n",
       "      <td>0</td>\n",
       "      <td>No</td>\n",
       "      <td>0</td>\n",
       "    </tr>\n",
       "    <tr>\n",
       "      <th>4</th>\n",
       "      <td>8.841186e+12</td>\n",
       "      <td>5642494</td>\n",
       "      <td>F</td>\n",
       "      <td>2016-04-29 16:07:23+00:00</td>\n",
       "      <td>2016-04-29 00:00:00+00:00</td>\n",
       "      <td>56</td>\n",
       "      <td>JARDIM DA PENHA</td>\n",
       "      <td>0</td>\n",
       "      <td>1</td>\n",
       "      <td>1</td>\n",
       "      <td>0</td>\n",
       "      <td>0</td>\n",
       "      <td>0</td>\n",
       "      <td>No</td>\n",
       "      <td>0</td>\n",
       "    </tr>\n",
       "  </tbody>\n",
       "</table>\n",
       "</div>"
      ],
      "text/plain": [
       "      PatientId  AppointmentID Gender              ScheduledDay  \\\n",
       "0  2.987250e+13        5642903      F 2016-04-29 18:38:08+00:00   \n",
       "1  5.589978e+14        5642503      M 2016-04-29 16:08:27+00:00   \n",
       "2  4.262962e+12        5642549      F 2016-04-29 16:19:04+00:00   \n",
       "3  8.679512e+11        5642828      F 2016-04-29 17:29:31+00:00   \n",
       "4  8.841186e+12        5642494      F 2016-04-29 16:07:23+00:00   \n",
       "\n",
       "             AppointmentDay  Age      Neighbourhood  Scholarship  \\\n",
       "0 2016-04-29 00:00:00+00:00   62    JARDIM DA PENHA            0   \n",
       "1 2016-04-29 00:00:00+00:00   56    JARDIM DA PENHA            0   \n",
       "2 2016-04-29 00:00:00+00:00   62      MATA DA PRAIA            0   \n",
       "3 2016-04-29 00:00:00+00:00    8  PONTAL DE CAMBURI            0   \n",
       "4 2016-04-29 00:00:00+00:00   56    JARDIM DA PENHA            0   \n",
       "\n",
       "   Hipertension  Diabetes  Alcoholism  Handcap  SMS_received No-show  \\\n",
       "0             1         0           0        0             0      No   \n",
       "1             0         0           0        0             0      No   \n",
       "2             0         0           0        0             0      No   \n",
       "3             0         0           0        0             0      No   \n",
       "4             1         1           0        0             0      No   \n",
       "\n",
       "   No-show-n  \n",
       "0          0  \n",
       "1          0  \n",
       "2          0  \n",
       "3          0  \n",
       "4          0  "
      ]
     },
     "execution_count": 9,
     "metadata": {},
     "output_type": "execute_result"
    }
   ],
   "source": [
    "checkDay = [df['ScheduledDay'][i] <= df['AppointmentDay'][i] for i in range(df.shape[0])]\n",
    "print(sum(checkDay))\n",
    "print((df.shape[0]-sum(checkDay))/df.shape[0])\n",
    "df[[not x for x in checkDay]].head()"
   ]
  },
  {
   "cell_type": "markdown",
   "metadata": {},
   "source": [
    "查看`ScheduledDay`是否均早于`AppointmentDay`。结果发现只有71951条记录符合这种情况，而剩下的38568条记录均为`ScheduledDay`晚于`AppointmentDay`，占总样本量的35%。如果这两个字段的意义确如先前的推测，则意味着有1/3的异常值，有点难以置信。但如果不是的话，则这两个字段的意义实在难明。\n",
    "\n",
    "对此有两种解决方案，一是将那35%的数据视为异常值，剔除；二是暂时忽略这两个字段，先分析其他自变量。\n",
    "\n",
    "以下分析暂时采取第二种方案。"
   ]
  },
  {
   "cell_type": "markdown",
   "metadata": {},
   "source": [
    "<a id='eda'></a>\n",
    "## 探索性数据分析\n",
    "\n",
    "> **提示**在你完成数据整理和清理之后，现在可以进行探索性数据分析了。你需要计算统计值，创建可视化图表，解决你在一开始的简介部分中提出的研究问题。我们推荐你采用系统化方法。一次只探索一个变量，然后探索变量之间的关系。"
   ]
  },
  {
   "cell_type": "markdown",
   "metadata": {},
   "source": [
    "### 患者年龄分布如何？"
   ]
  },
  {
   "cell_type": "code",
   "execution_count": 10,
   "metadata": {},
   "outputs": [
    {
     "data": {
      "image/png": "[encoded data removed]",
      "text/plain": [
       "<Figure size 432x288 with 1 Axes>"
      ]
     },
     "metadata": {
      "needs_background": "light"
     },
     "output_type": "display_data"
    }
   ],
   "source": [
    "df_age = df[~df.duplicated('PatientId')]['Age']\n",
    "plt.hist(df_age, bins=range(0, 101, 10))\n",
    "plt.title('Age distribution', fontsize = 20)\n",
    "plt.ylabel('Age bins', fontsize = 16)\n",
    "plt.xlabel('Population', fontsize = 16);"
   ]
  },
  {
   "cell_type": "code",
   "execution_count": 11,
   "metadata": {},
   "outputs": [
    {
     "data": {
      "text/plain": [
       "0.9193566509895825"
      ]
     },
     "execution_count": 11,
     "metadata": {},
     "output_type": "execute_result"
    }
   ],
   "source": [
    "df_age[df_age <= 70].shape[0]/df_age.shape[0]"
   ]
  },
  {
   "cell_type": "markdown",
   "metadata": {},
   "source": [
    "以每10年为年龄段分界，患者年龄分布在70岁出现明显断层，70岁以前各年龄段人数较多且相差不大，其中最多是0~10岁人群。70岁以后人数急骤减少，且各年龄段人数依次递减。计算70岁以下人数占比，得92%，即大部分患者在70岁以下。"
   ]
  },
  {
   "cell_type": "markdown",
   "metadata": {},
   "source": [
    "### 未前往就诊的有多少人次？占比多少？"
   ]
  },
  {
   "cell_type": "code",
   "execution_count": 12,
   "metadata": {},
   "outputs": [
    {
     "name": "stdout",
     "output_type": "stream",
     "text": [
      "No     88208\n",
      "Yes    22319\n",
      "Name: No-show, dtype: int64\n"
     ]
    },
    {
     "data": {
      "image/png": "[encoded data removed]",
      "text/plain": [
       "<Figure size 432x288 with 1 Axes>"
      ]
     },
     "metadata": {},
     "output_type": "display_data"
    }
   ],
   "source": [
    "# 用这个代码框和其它代码框探索数据。请务必记得添加\n",
    "#   Markdown 框，以便记录你的观察和调查结果。\n",
    "freq_no_show = df['No-show'].value_counts()\n",
    "print(freq_no_show)\n",
    "plt.pie(freq_no_show, autopct='%3.1f%%', textprops={'fontsize':16}, labels=freq_no_show.index)\n",
    "plt.title('No-show distribution', fontsize = 20);"
   ]
  },
  {
   "cell_type": "markdown",
   "metadata": {},
   "source": [
    "有22319人次未前往就诊，占总预约数的20.2%"
   ]
  },
  {
   "cell_type": "markdown",
   "metadata": {},
   "source": [
    "### 各预约地点的未就诊率如何分布？最高和最低分别是哪个？"
   ]
  },
  {
   "cell_type": "code",
   "execution_count": 13,
   "metadata": {},
   "outputs": [
    {
     "name": "stdout",
     "output_type": "stream",
     "text": [
      "noshow_rate    1.0\n",
      "Name: ILHAS OCEÂNICAS DE TRINDADE, dtype: float64\n",
      "noshow_rate    0.0\n",
      "Name: PARQUE INDUSTRIAL, dtype: float64\n"
     ]
    },
    {
     "data": {
      "image/png": "[encoded data removed]",
      "text/plain": [
       "<Figure size 1440x432 with 1 Axes>"
      ]
     },
     "metadata": {
      "needs_background": "light"
     },
     "output_type": "display_data"
    }
   ],
   "source": [
    "# 用这个代码框和其它代码框探索数据。请务必记得添加\n",
    "#   Markdown 框，以便记录你的观察和调查结果。\n",
    "nb_appointments = df.groupby('Neighbourhood').count()['AppointmentID']\n",
    "nb_noshows = df.groupby('Neighbourhood').sum()['No-show-n']\n",
    "noshow_rate = pd.DataFrame(nb_noshows/nb_appointments, columns=['noshow_rate'])\n",
    "\n",
    "plt.figure(figsize=[20, 6])\n",
    "plt.bar(x = list(noshow_rate.index), height = noshow_rate['noshow_rate'])\n",
    "pl.xticks(rotation = 90, fontsize = 14)\n",
    "plt.title('No-show rate distribution for each neighbourhood', fontsize = 20)\n",
    "plt.ylabel('No-show rate', fontsize = 16)\n",
    "plt.xlabel('Neighbourhood', fontsize = 16);\n",
    "\n",
    "max_ns_rate = noshow_rate.sort_values('noshow_rate',axis = 0, ascending = False).iloc[0]\n",
    "min_ns_rate = noshow_rate.sort_values('noshow_rate',axis = 0, ascending = True).iloc[0]\n",
    "print(max_ns_rate)\n",
    "print(min_ns_rate)"
   ]
  },
  {
   "cell_type": "markdown",
   "metadata": {},
   "source": [
    "各Neighbourhook的未就诊率基本均一，约20%左右，除个别极端值。*ILHAS OCEÂNICAS DE TRINDADE*的未就诊率最高，达100%；*PARQUE INDUSTRIAL*的未就诊率最低，0%。"
   ]
  },
  {
   "cell_type": "code",
   "execution_count": 14,
   "metadata": {},
   "outputs": [
    {
     "name": "stdout",
     "output_type": "stream",
     "text": [
      "ILHAS OCEÂNICAS DE TRINDADE 2\n",
      "PARQUE INDUSTRIAL 1\n"
     ]
    }
   ],
   "source": [
    "print(max_ns_rate.name, df[df['Neighbourhood'] == max_ns_rate.name].shape[0])\n",
    "print(min_ns_rate.name, df[df['Neighbourhood'] == min_ns_rate.name].shape[0])"
   ]
  },
  {
   "cell_type": "markdown",
   "metadata": {},
   "source": [
    "再查看这两个Neighbourhood的预约记录量，原来两者都很少，*ILHAS OCEÂNICAS DE TRINDADE*只有2条预约记录，而*PARQUE INDUSTRIAL*只有一条，所以可以稳定性并不好。"
   ]
  },
  {
   "cell_type": "markdown",
   "metadata": {},
   "source": [
    "### 收到短信与未收到短信的患者未就诊率如何？"
   ]
  },
  {
   "cell_type": "code",
   "execution_count": 15,
   "metadata": {},
   "outputs": [
    {
     "name": "stdout",
     "output_type": "stream",
     "text": [
      "No-show          No    Yes   ns_rate\n",
      "SMS_received                        \n",
      "0             62510  12535  0.200528\n",
      "1             25698   9784  0.380730\n"
     ]
    },
    {
     "data": {
      "image/png": "[encoded data removed]",
      "text/plain": [
       "<Figure size 432x288 with 1 Axes>"
      ]
     },
     "metadata": {
      "needs_background": "light"
     },
     "output_type": "display_data"
    }
   ],
   "source": [
    "# 请继续探索数据，解决你额外的研究问题。\n",
    "#   如果有其它问题要调查，\n",
    "#   请根据需要添加更多标题。\n",
    "ct = pd.crosstab(df['SMS_received'], df['No-show'])\n",
    "ct['ns_rate'] = ct['Yes']/ct['No']\n",
    "print(ct)\n",
    "ct[['No', 'Yes']].plot.bar(stacked=False)\n",
    "plt.title('No-show distribution of SMS received', fontsize = 20)\n",
    "plt.ylabel('Appointment counts', fontsize = 14)\n",
    "plt.xlabel('SMS received', fontsize = 14);"
   ]
  },
  {
   "cell_type": "markdown",
   "metadata": {},
   "source": [
    "reference: https://codeday.me/bug/20190416/977422.html"
   ]
  },
  {
   "cell_type": "markdown",
   "metadata": {},
   "source": [
    "患者如未收到短信，则未就诊率20%，收到1条或以上短信，未就诊率为38%。不过未收到短信的患者基数也更大，共88208人次。"
   ]
  },
  {
   "cell_type": "markdown",
   "metadata": {},
   "source": [
    "<a id='conclusions'></a>\n",
    "## 结论\n",
    "\n",
    "经过部分数据探索，可以发现一些患者特征及未就诊记录的特征。\n",
    "\n",
    "* 这些患者大多集中在70岁以下。\n",
    "* 共有20.2%的预约记录未能按时赴约。\n",
    "* 其中各预约地点的未赶约率约在20%左右，与总体一致；个别预约地点出现极端值，它们的预约数量本来极少，可能不具有代表性。总体而言，预约地点与未就诊的关系很可能并不大。\n",
    "* 大多数预约人次未收到短信，其中未就诊率20%，与总体一致；收到短信者，未就诊率反而更高，需要进一步分析。\n",
    "\n",
    "这些探索并不能直接提供未就诊原因的依据，欲探查原因需要更多的相关性或回归分析。\n",
    "\n",
    "> **提示**：最后，你需要总结自己的调查结果。请确保你了解在探索过程中的局限性。如果尚未进行任何统计检验，不要做出任何统计结论。切记不要根据相关关系贸然推导出因果关系！\n",
    "\n",
    "> **提示**：如果你对自己的研究成果感到满意，应将其副本保存为 HTML 或 PDF 形式。在导出报告之前请检查一遍，确保报告结构完整，信息连贯。应删除所有类似的“提示”引用段，以保持报告中的简洁度。在提交之前，你还需要查看在课程结尾的项目提交页面中的项目审阅规范。\n",
    "\n",
    "> 如需将报告导出到工作区，你可以运行下面的代码框。如果正确，会返回代码 0，工作区目录下会生成 .html 文件（单击左上角的 jupyter 图标）。也可以通过 **文件** > **下载为** 子菜单下载 html 报告，然后手动上传到工作区目录。完成之后，可以单击右下角的“提交项目”，来提交你的项目。恭喜你！"
   ]
  },
  {
   "cell_type": "code",
   "execution_count": 16,
   "metadata": {},
   "outputs": [
    {
     "data": {
      "text/plain": [
       "4294967295"
      ]
     },
     "execution_count": 16,
     "metadata": {},
     "output_type": "execute_result"
    }
   ],
   "source": [
    "from subprocess import call\n",
    "call(['python', '-m', 'nbconvert', 'Investigate_a_Dataset.ipynb'])"
   ]
  }
 ],
 "metadata": {
  "kernelspec": {
   "display_name": "Python 3",
   "language": "python",
   "name": "python3"
  },
  "language_info": {
   "codemirror_mode": {
    "name": "ipython",
    "version": 3
   },
   "file_extension": ".py",
   "mimetype": "text/x-python",
   "name": "python",
   "nbconvert_exporter": "python",
   "pygments_lexer": "ipython3",
   "version": "3.7.3"
  },
  "latex_envs": {
   "LaTeX_envs_menu_present": true,
   "autoclose": false,
   "autocomplete": true,
   "bibliofile": "biblio.bib",
   "cite_by": "apalike",
   "current_citInitial": 1,
   "eqLabelWithNumbers": true,
   "eqNumInitial": 1,
   "hotkeys": {
    "equation": "Ctrl-E",
    "itemize": "Ctrl-I"
   },
   "labels_anchors": false,
   "latex_user_defs": false,
   "report_style_numbering": false,
   "user_envs_cfg": false
  },
  "toc": {
   "base_numbering": 1,
   "nav_menu": {},
   "number_sections": true,
   "sideBar": true,
   "skip_h1_title": false,
   "title_cell": "Table of Contents",
   "title_sidebar": "Contents",
   "toc_cell": false,
   "toc_position": {},
   "toc_section_display": true,
   "toc_window_display": false
  },
  "varInspector": {
   "cols": {
    "lenName": 16,
    "lenType": 16,
    "lenVar": 40
   },
   "kernels_config": {
    "python": {
     "delete_cmd_postfix": "",
     "delete_cmd_prefix": "del ",
     "library": "var_list.py",
     "varRefreshCmd": "print(var_dic_list())"
    },
    "r": {
     "delete_cmd_postfix": ") ",
     "delete_cmd_prefix": "rm(",
     "library": "var_list.r",
     "varRefreshCmd": "cat(var_dic_list()) "
    }
   },
   "types_to_exclude": [
    "module",
    "function",
    "builtin_function_or_method",
    "instance",
    "_Feature"
   ],
   "window_display": false
  }
 },
 "nbformat": 4,
 "nbformat_minor": 2
}
